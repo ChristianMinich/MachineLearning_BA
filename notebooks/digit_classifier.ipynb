{
 "cells": [
  {
   "cell_type": "code",
   "outputs": [],
   "source": [
    "import tensorflow as tf\n",
    "import pandas as pd\n",
    "import numpy as np"
   ],
   "metadata": {
    "collapsed": false,
    "ExecuteTime": {
     "end_time": "2024-06-03T16:39:29.920793900Z",
     "start_time": "2024-06-03T16:39:17.262827400Z"
    }
   },
   "id": "8c578a0694f5c705",
   "execution_count": 1
  },
  {
   "cell_type": "code",
   "execution_count": 2,
   "id": "initial_id",
   "metadata": {
    "collapsed": true,
    "ExecuteTime": {
     "end_time": "2024-06-03T16:41:55.820103800Z",
     "start_time": "2024-06-03T16:39:32.648946400Z"
    }
   },
   "outputs": [],
   "source": [
    "from src.utils.load_data_digits import load_digit_and_annotations\n",
    "dataset: tf.data.Dataset = load_digit_and_annotations()"
   ]
  },
  {
   "cell_type": "code",
   "outputs": [],
   "source": [
    "print(dataset.element_spec)"
   ],
   "metadata": {
    "collapsed": false
   },
   "id": "6c627bd4d3c873e8",
   "execution_count": null
  },
  {
   "cell_type": "code",
   "outputs": [
    {
     "ename": "ValueError",
     "evalue": "not enough values to unpack (expected 3, got 2)",
     "output_type": "error",
     "traceback": [
      "\u001B[1;31m---------------------------------------------------------------------------\u001B[0m",
      "\u001B[1;31mValueError\u001B[0m                                Traceback (most recent call last)",
      "Cell \u001B[1;32mIn[11], line 3\u001B[0m\n\u001B[0;32m      1\u001B[0m \u001B[38;5;28;01mfrom\u001B[39;00m \u001B[38;5;21;01msrc\u001B[39;00m\u001B[38;5;21;01m.\u001B[39;00m\u001B[38;5;21;01mplotting\u001B[39;00m\u001B[38;5;21;01m.\u001B[39;00m\u001B[38;5;21;01mplot_barcodes\u001B[39;00m \u001B[38;5;28;01mimport\u001B[39;00m plot_images_with_bboxes_from_dataset_with_range\n\u001B[0;32m      2\u001B[0m \u001B[38;5;66;03m#plot_single_digit(dataset, dataset['filename'][0])\u001B[39;00m\n\u001B[1;32m----> 3\u001B[0m \u001B[43mplot_images_with_bboxes_from_dataset_with_range\u001B[49m\u001B[43m(\u001B[49m\u001B[43mdataset\u001B[49m\u001B[43m,\u001B[49m\u001B[43m \u001B[49m\u001B[38;5;241;43m1\u001B[39;49m\u001B[43m,\u001B[49m\u001B[43m \u001B[49m\u001B[38;5;241;43m5\u001B[39;49m\u001B[43m)\u001B[49m\n",
      "File \u001B[1;32m~\\PycharmProjects\\MachineLearning_BA\\src\\plotting\\plot_barcodes.py:72\u001B[0m, in \u001B[0;36mplot_images_with_bboxes_from_dataset_with_range\u001B[1;34m(dataset, start_index, end_index)\u001B[0m\n\u001B[0;32m     69\u001B[0m dataset \u001B[38;5;241m=\u001B[39m dataset\u001B[38;5;241m.\u001B[39mskip(start_index)\u001B[38;5;241m.\u001B[39mtake(end_index \u001B[38;5;241m-\u001B[39m start_index)\n\u001B[0;32m     71\u001B[0m \u001B[38;5;28;01mfor\u001B[39;00m i, element \u001B[38;5;129;01min\u001B[39;00m \u001B[38;5;28menumerate\u001B[39m(dataset):\n\u001B[1;32m---> 72\u001B[0m     image, boxes, classes \u001B[38;5;241m=\u001B[39m element\n\u001B[0;32m     74\u001B[0m     image_np \u001B[38;5;241m=\u001B[39m image\u001B[38;5;241m.\u001B[39mnumpy()\n\u001B[0;32m     75\u001B[0m     image_np \u001B[38;5;241m=\u001B[39m (image_np \u001B[38;5;241m-\u001B[39m image_np\u001B[38;5;241m.\u001B[39mmin()) \u001B[38;5;241m/\u001B[39m (image_np\u001B[38;5;241m.\u001B[39mmax() \u001B[38;5;241m-\u001B[39m image_np\u001B[38;5;241m.\u001B[39mmin())\n",
      "\u001B[1;31mValueError\u001B[0m: not enough values to unpack (expected 3, got 2)"
     ]
    }
   ],
   "source": [
    "from src.plotting.plot_barcodes import plot_images_with_bboxes_from_dataset_with_range\n",
    "#plot_single_digit(dataset, dataset['filename'][0])"
   ],
   "metadata": {
    "collapsed": false,
    "ExecuteTime": {
     "end_time": "2024-06-03T16:48:14.728642200Z",
     "start_time": "2024-06-03T16:48:06.850259800Z"
    }
   },
   "id": "cc48e26a9278c429",
   "execution_count": 11
  },
  {
   "cell_type": "code",
   "outputs": [],
   "source": [
    "for i, element in enumerate(dataset.take(5)):\n",
    "    for j, sub_element in enumerate(element):\n",
    "        print(str(j) + \": \" + str(sub_element.numpy()))"
   ],
   "metadata": {
    "collapsed": false
   },
   "id": "8bb33d442f615938",
   "execution_count": null
  },
  {
   "cell_type": "code",
   "outputs": [],
   "source": [
    "# Split Dataset\n",
    "dataset_size = len(list(dataset))\n",
    "train_size = int(0.8 * dataset_size)\n",
    "val_size = dataset_size - train_size\n",
    "\n",
    "train_dataset = dataset.take(train_size).batch(32)\n",
    "val_dataset = dataset.skip(train_size).take(val_size).batch(32)"
   ],
   "metadata": {
    "collapsed": false
   },
   "id": "ec2b47d4f41db029",
   "execution_count": null
  },
  {
   "cell_type": "code",
   "outputs": [],
   "source": [
    "model = tf.keras.models.Sequential([\n",
    "    tf.keras.layers.InputLayer(shape=(224, 224, 3)),\n",
    "    tf.keras.layers.Conv2D(32, (3, 3), activation='relu'),\n",
    "    tf.keras.layers.MaxPooling2D((2, 2)),\n",
    "    tf.keras.layers.Conv2D(64, (3, 3), activation='relu'),\n",
    "    tf.keras.layers.MaxPooling2D((2, 2)),\n",
    "    tf.keras.layers.Conv2D(128, (3, 3), activation='relu'),\n",
    "    tf.keras.layers.MaxPooling2D((2, 2)),\n",
    "    tf.keras.layers.Flatten(),\n",
    "    tf.keras.layers.Dense(128, activation='relu'),\n",
    "    tf.keras.layers.Dense(10, activation='softmax')\n",
    "])"
   ],
   "metadata": {
    "collapsed": false
   },
   "id": "a24a20c8c9f7cfe1",
   "execution_count": null
  },
  {
   "cell_type": "code",
   "outputs": [],
   "source": [
    "model.compile(optimizer='adam',\n",
    "              loss='categorical_crossentropy',\n",
    "              metrics=['accuracy'])"
   ],
   "metadata": {
    "collapsed": false
   },
   "id": "d1431610cff37999",
   "execution_count": null
  },
  {
   "cell_type": "code",
   "outputs": [],
   "source": [
    "model.fit(train_dataset, epochs=10, validation_data=val_dataset)"
   ],
   "metadata": {
    "collapsed": false
   },
   "id": "cfda488d23ddc987",
   "execution_count": null
  },
  {
   "cell_type": "code",
   "outputs": [],
   "source": [
    "loss, accuracy = model.evaluate(val_dataset)\n",
    "print(f'Validation accuracy: {accuracy:.4f}')"
   ],
   "metadata": {
    "collapsed": false
   },
   "id": "98aefe47914e0b19"
  }
 ],
 "metadata": {
  "kernelspec": {
   "display_name": "Python 3",
   "language": "python",
   "name": "python3"
  },
  "language_info": {
   "codemirror_mode": {
    "name": "ipython",
    "version": 2
   },
   "file_extension": ".py",
   "mimetype": "text/x-python",
   "name": "python",
   "nbconvert_exporter": "python",
   "pygments_lexer": "ipython2",
   "version": "2.7.6"
  }
 },
 "nbformat": 4,
 "nbformat_minor": 5
}
